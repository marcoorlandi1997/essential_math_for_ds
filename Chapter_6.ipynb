{
 "cells": [
  {
   "cell_type": "markdown",
   "id": "c47c54fe-cfa0-4992-93af-133cdd07712e",
   "metadata": {},
   "source": [
    "# Logistic Regression"
   ]
  },
  {
   "cell_type": "markdown",
   "id": "3a8b2d64-19a4-4b62-9af7-1bc4a5d89506",
   "metadata": {},
   "source": [
    "The logistic regression is a type of regression that predicts a probability of an outcome given one or more indipendent variables (input columns). This method can be used for clasification, which means predicting categories rather than numbers.\n",
    "Indeed, there are situations where we would the variables to be discrete rather than continuos. So, the logistic regression is trained on an output variable that is discrete (0 or 1) or categorical (whole numbers, as 1, 2, 3 and 4), and it gives back a probability as a result that can be converted into a discrete value with a threshold."
   ]
  },
  {
   "cell_type": "markdown",
   "id": "9e1e0acf-1540-4b7a-ad71-937738506f55",
   "metadata": {},
   "source": [
    "## Performing a Logistic Regression"
   ]
  },
  {
   "cell_type": "markdown",
   "id": "e526c780-4d7d-4eb2-bf8b-955c869b0592",
   "metadata": {},
   "source": [
    "The logistic function is an S-shaped curve, also known as $sigmoid$ $curve$, that for a given set of input variables, produces an output variable between 0 and 1. And because of that, it can be used to represent a probability.\n",
    "Here the logistic function that outputs a probability $y$ for one input variable $x$:\n",
    "- $p = \\dfrac{1.0}{1.0 + e^{-(\\beta_0 + \\beta_1x_1)}}$\n",
    "\n",
    "The $x$ variable is the independent or the input variable, whereas $\\beta_0$ and $\\beta_1$ are the coefficients we need to solve for. We can see a linear function in the exponent, which in this case is known as the log-odds function. As in the case of linear regression, we can extend the logistic regression to more than one input variable as shown in the following formula:\n",
    "- $p = \\dfrac{1.0}{1.0 + e^{-(\\beta_0 + \\beta_1x_1 + \\beta_2x_2 + ...)}}$"
   ]
  },
  {
   "cell_type": "code",
   "execution_count": 2,
   "id": "5f6d9f07-8e60-4052-a59e-80aab13c4c61",
   "metadata": {},
   "outputs": [],
   "source": [
    "# Example 6-1 The logistic function in Python for one indipendent variable\n",
    "import math\n",
    "\n",
    "def predict_probability(x, b0, b1):\n",
    "    p = 1.0 / (1.0 + math.exp(-(bo + b1 * x)))\n",
    "    return p"
   ]
  },
  {
   "cell_type": "code",
   "execution_count": 6,
   "id": "448b8f84-c420-473c-af49-d95eeba6ae9a",
   "metadata": {},
   "outputs": [
    {
     "name": "stdout",
     "output_type": "stream",
     "text": [
      "1.0/(1.0 + 16.8272567955368*exp(-0.62*x))\n"
     ]
    },
    {
     "data": {
      "image/png": "[encoded data removed]",
      "text/plain": [
       "<Figure size 640x480 with 1 Axes>"
      ]
     },
     "metadata": {},
     "output_type": "display_data"
    },
    {
     "data": {
      "text/plain": [
       "<sympy.plotting.plot.Plot at 0x166a5d248e0>"
      ]
     },
     "execution_count": 6,
     "metadata": {},
     "output_type": "execute_result"
    }
   ],
   "source": [
    "from sympy import *\n",
    "# Define our vars\n",
    "b0, b1, x = symbols('b0 b1 x')\n",
    "\n",
    "# Logistic function\n",
    "p = 1.0 / (1.0 + exp(-(b0 + b1 * x)))\n",
    "\n",
    "# Plug in values for b0 and b1\n",
    "p = p.subs(b0, -2.823)\n",
    "p = p.subs(b1, 0.62)\n",
    "print(p)\n",
    "\n",
    "# Plot it\n",
    "plot(p)"
   ]
  },
  {
   "cell_type": "markdown",
   "id": "ee607d87-32c0-4a70-a33a-a5b359a6d4cb",
   "metadata": {},
   "source": [
    "## Fit the Logistic Curve"
   ]
  },
  {
   "cell_type": "markdown",
   "id": "c2b1ff00-0719-4347-b9bf-34bff7c4ee8e",
   "metadata": {},
   "source": [
    "In order to fit a logistic curve to a given training data set, we need the output variable must be. Then we need to solve for the beta zero and beta one with fusions to fit our logistic function. But instead of using least squares, as in the case of a linear regression, here we use the maximum likelihood estimation. Which maximizes the likelihood and give a logistic curve with output the observed data.\n",
    "\n",
    "In other words, the MLE is an approach used to compute the coefficients ($\\beta_0$, $\\beta_1$, ...) so that our logistic curve (see the above logistic function) with these coefficients plugged in is going to output the observed data, of course, as closely as possible to the observed data."
   ]
  },
  {
   "cell_type": "code",
   "execution_count": 13,
   "id": "b9054b7c-283b-4d83-bdbc-9e73e1cce56f",
   "metadata": {},
   "outputs": [
    {
     "name": "stdout",
     "output_type": "stream",
     "text": [
      "[-3.17576395] [0.69267212]\n"
     ]
    }
   ],
   "source": [
    "# Example 6-3\n",
    "import pandas as pd\n",
    "from sklearn.linear_model import LogisticRegression\n",
    "\n",
    "# DF\n",
    "df = pd.read_csv(\"https://bit.ly/33ebs2R\", delimiter=\",\", header=0)\n",
    "df.head()\n",
    "\n",
    "# Extract input vars\n",
    "X = df.values[:, :-1]\n",
    "# Extract output var\n",
    "Y = df.values[:, -1]\n",
    "\n",
    "# Logistic function\n",
    "model = LogisticRegression(penalty=\"none\")  # Otherwise it uses a Ridge or Lasso Regression\n",
    "model.fit(X, Y)\n",
    "b0 = model.intercept_.flatten()  # Withouth flatten it returns [[0.69267212]]. So, the aim \n",
    "# of using flatten is to reduce the dimensionality of the matrix considered\n",
    "b1 = model.coef_.flatten()\n",
    "print(b0, b1)"
   ]
  },
  {
   "cell_type": "markdown",
   "id": "7b63d9b0-927c-4e29-a6cc-4eccace392d0",
   "metadata": {},
   "source": [
    "SKIP from page 200 to 204. There are discussed how to find manually the coefficients through Gradient Descent on logistic regression."
   ]
  },
  {
   "cell_type": "markdown",
   "id": "ea91588d-5406-4070-9385-2b29ebbcbde8",
   "metadata": {},
   "source": [
    "## Multivariable Logistic Regression"
   ]
  },
  {
   "cell_type": "code",
   "execution_count": 27,
   "id": "e6675c37-8c00-479c-aa52-5f6268cbdfed",
   "metadata": {},
   "outputs": [
    {
     "name": "stdout",
     "output_type": "stream",
     "text": [
      "   SEX  AGE  PROMOTIONS  YEARS_EMPLOYED  DID_QUIT\n",
      "0    0   25           2               3         0\n",
      "1    0   30           2               3         0\n",
      "2    0   26           2               3         0\n",
      "3    0   25           1               2         0\n",
      "4    0   28           1               2         0\n",
      "Coefficients: [ 0.03213405  0.03682453 -2.50410028  0.9742266 ]\n",
      "Intercept: [-2.73485302]\n",
      "Prediciton: [0]\n",
      "Probabilities: [0.90856497 0.09143503]\n"
     ]
    }
   ],
   "source": [
    "# Example 6-9 Doing a multivariable logistic regression on employees data\n",
    "import pandas as pd\n",
    "from sklearn.linear_model import LogisticRegression\n",
    "\n",
    "# DF\n",
    "df = pd.read_csv(\"https://tinyurl.com/y6r7qjrp\", delimiter=\",\", header=0)\n",
    "print(df.head())\n",
    "\n",
    "# Inputs\n",
    "inputs = df.values[:, :-1]\n",
    "# Outputs\n",
    "output = df.values[:, -1]\n",
    "\n",
    "# Model\n",
    "fit = LogisticRegression(penalty=\"none\").fit(inputs, output)\n",
    "print(\"Coefficients:\", model.coef_.flatten())\n",
    "print(\"Intercept:\", model.intercept_.flatten())\n",
    "\n",
    "# Make a prediction and compute its probabilities\n",
    "prediction = fit.predict([[0, 27, 1, 2]])\n",
    "probability = fit.predict_proba([[0, 27, 1, 2]])\n",
    "print(\"Prediciton:\", prediction)  # The employee does not quit\n",
    "print(\"Probabilities:\", probability.flatten())  # The probability the employee does not quit is 90.85% whereas he does is at 9.14%."
   ]
  },
  {
   "cell_type": "markdown",
   "id": "e4f505fe-a51b-472d-b18f-65708a1e07c0",
   "metadata": {},
   "source": [
    "As shown above the predict_proba() functions returns an array with 2 values, the first being the probability to not quit (False, 0) and the second to quit (True, 1).\n",
    "We also see the first 2 coefficients are quite low, almost 0, meaning that are not so useful here in this case whereas the other 2 are stronger. In addition, recall that in order to make a meaningful prediction we need to test within the range of our data."
   ]
  },
  {
   "cell_type": "markdown",
   "id": "a7ce10a8-99da-4740-a4ce-0caa512edb1e",
   "metadata": {},
   "source": [
    "## Understanding the Log-Odds"
   ]
  },
  {
   "cell_type": "markdown",
   "id": "c6948a12-ab1b-47f2-b61d-c25232d01745",
   "metadata": {},
   "source": [
    "Before we defined the exponent value as a linear function ($\\beta_0 + \\beta_1x$). Recall the logistic function:\n",
    "- $p = \\dfrac{1.0}{1.0 + e^{-(\\beta_0 + \\beta_1x_1)}}$\n",
    "\n",
    "Specifically, this linear function is called $log-odds$ function, why so?\n"
   ]
  },
  {
   "cell_type": "markdown",
   "id": "f7939a6b-4dc7-47ea-a1a4-978b8cfc9dc8",
   "metadata": {},
   "source": [
    "If we recall previous result regarding the simple logistic function:\n",
    "- $\\beta_0 = -3.17576395$; \n",
    "- $\\beta_1 = 0.69267212$.\n",
    "\n",
    "Then, if we wanted to compute the probability of having a sympthom aftwer 6 hours ($x = 6$) we really just need to plug these values into the logistic function, so:\n",
    "- $p = \\dfrac{1.0}{1.0 + e^{-(\\beta_0 + \\beta_1x_1)}}$ = $p = \\dfrac{1.0}{1.0 + e^{-(-3.17576395 + 0.69267212*6)}}$ = $0.72716$.\n",
    "\n",
    "Let's see this from a odd perspective and compute the odds through the formula we learned in Chapter 2:\n",
    "- $odds = \\dfrac{p}{1 - p}$ = $\\dfrac{0.72716}{1 - 0.72716}$ = $2.6651$.\n",
    "\n",
    "This result tells us that after 6 hours a patient is 2.6 times more likely to show symptoms than not show symptoms. "
   ]
  },
  {
   "cell_type": "markdown",
   "id": "fa9f470c-5cb0-4bc6-bfd0-7d93b620157f",
   "metadata": {},
   "source": [
    "But how do we get the log-odds? Changing the odds formula into a natural logarithm:\n",
    "- logit function = $log(\\dfrac{p}{1 - p})$ = $log(\\dfrac{0.72716}{1 - 0.72716})$ = $0.9802$.\n",
    "\n",
    "The result coming from the logit function is the log-odds. We treat the results  greater than 0 as favoring odds an event will happen whereas anything less than 0 is against an event. Moreover, a log-odds of -1.05 is linearly the same distance from 0 to 1.05, whereas this equivalent does not hold in plain odds, meaning there is a lack of symmetry."
   ]
  },
  {
   "cell_type": "markdown",
   "id": "e222fa0b-7006-4dc1-9bee-82e3a0a1f975",
   "metadata": {},
   "source": [
    "Now, we can show how the result coming from the logit function, so, the log-odds, is the same result coming from the initial linearn function in the exponent:\n",
    "- $\\beta_0 + \\beta_1x$ = $-3.17576395 + 0.69267212*6$ = $0.9802$.\n",
    "\n",
    "That's why we call this linear function, the log-odds function."
   ]
  },
  {
   "cell_type": "markdown",
   "id": "c8471f3d-1980-46ea-b223-052daa3552e1",
   "metadata": {},
   "source": [
    "Another benefit from using odds is that we can compare different x-values. For example, let's find the $p$ for 6 and 8 hours:\n",
    "- $p_6 = \\dfrac{1.0}{1.0 + e^{-(-3.17576395 + 0.69267212*6)}}$ = $0.72716$;\n",
    "- $p_8 = \\dfrac{1.0}{1.0 + e^{-(-3.17576395 + 0.69267212*8)}}$ = $0.9141$.\n",
    "\n",
    "Then, convert it to plain odds:\n",
    "- $o_6 = $\\dfrac{0.72716}{1 - 0.72716}$ = $2.6651$;\n",
    "- $o_8 = $\\dfrac{0.9141}{1 - 0.9141}$ = $10.6505$.\n",
    "\n",
    "Then, we compute the odds-ratio where the odds for 8 is the numerator and for 6 the denominator:\n",
    "- $\\dfrac{10.6505}{2.6651}$ = $3.9962$.\n",
    "\n",
    "This means that our odds of showing sympthoms increases by nearly a factor of 4 with an extra 2-hours of exposure. This value holds across any 2-hour range, from 2 to 4, from 4 to 6...\n",
    "However, this value will different for other range lenghts."
   ]
  },
  {
   "cell_type": "markdown",
   "id": "9c94b3c2-4870-481c-9488-7b3cf53b5c9a",
   "metadata": {},
   "source": [
    "## R-Squared"
   ]
  },
  {
   "cell_type": "markdown",
   "id": "0d994fcf-5d1c-41b9-adf9-2096c1858b71",
   "metadata": {},
   "source": [
    "Just like in linear regression there is an $R^2$, which indicates how well a given indipendent variable explains a dependent one, even for logistic regression.\n",
    "However, there is not a consensus on the best way to calculate it in this case. A popular technique is the $Pseudo\\;R^2$ which mimics the one employed for linear regressions:\n",
    "- $Pseudo\\;R^2 = \\dfrac{log\\;likelyhood - log\\;likelyhood\\;fit}{log\\;likelyhood}$"
   ]
  },
  {
   "cell_type": "markdown",
   "id": "2d115d5a-297f-4c8c-a513-f8a843365b41",
   "metadata": {},
   "source": [
    "In order to get the $log\\;likelyhood\\;fit$ we have to take the log() of each point on the logistic curve and sum them, considering as well that we need to convert the false likelyhoods by subtracting from 1.0."
   ]
  },
  {
   "cell_type": "code",
   "execution_count": 6,
   "id": "b6c8080a-3eca-4270-8f14-3807f0943f37",
   "metadata": {},
   "outputs": [
    {
     "name": "stdout",
     "output_type": "stream",
     "text": [
      "-9.946161673231583\n"
     ]
    }
   ],
   "source": [
    "# Example 6-10 Calculating the log-likelyhood of the fit\n",
    "from math import log, exp\n",
    "import pandas as pd\n",
    "\n",
    "# Data\n",
    "patient_data = pd.read_csv(\"https://bit.ly/33ebs2R\", delimiter=\",\").itertuples()\n",
    "\n",
    "# Set beta0 and beta1\n",
    "b0 = -3.17576395\n",
    "b1 = 0.69267212\n",
    "\n",
    "\n",
    "# Logistic function\n",
    "def logistic_function(x):\n",
    "    p = 1.0 / (1.0 + exp(-(b0 + b1 * x)))\n",
    "    return p\n",
    "\n",
    "# Log-likelyhood fit\n",
    "log_likelyhood_fit = sum(log(logistic_function(p.x)) * p.y + \\\n",
    "                         log(1.0 - logistic_function(p.x)) * (1.0 - p.y) for p in patient_data)\n",
    "print(log_likelyhood_fit)"
   ]
  },
  {
   "cell_type": "markdown",
   "id": "6920185c-0a76-493d-8d74-bf8a4e168739",
   "metadata": {},
   "source": [
    "Then, we need to compute the $log\\;likelyhood$ to do so we first compute the $likelyhood$:\n",
    "- $likelyhood$ = $\\dfrac{\\sum{y_i}}{n}$.\n",
    "\n",
    "Then, as before, we do so for each point and we account for false likelyhoods."
   ]
  },
  {
   "cell_type": "code",
   "execution_count": 9,
   "id": "dabc8ae4-3242-4631-8ec2-55bcfc14713a",
   "metadata": {},
   "outputs": [
    {
     "name": "stdout",
     "output_type": "stream",
     "text": [
      "-14.341070198709906\n"
     ]
    }
   ],
   "source": [
    "# Example 6-13 Log likelyhood of patients\n",
    "from math import log, exp\n",
    "import pandas as pd\n",
    "\n",
    "# Data\n",
    "patient_data = list(pd.read_csv(\"https://bit.ly/33ebs2R\", delimiter=\",\").itertuples())\n",
    "\n",
    "# Set beta0 and beta1\n",
    "b0 = -3.17576395\n",
    "b1 = 0.69267212\n",
    "\n",
    "\n",
    "# Logistic function\n",
    "def logistic_function(x):\n",
    "    p = 1.0 / (1.0 + exp(-(b0 + b1 * x)))\n",
    "    return p\n",
    "\n",
    "likelyhood = sum(p.y for p in patient_data) / len(patient_data)\n",
    "log_likelyhood = sum(log(likelyhood) * p.y + \\\n",
    "                         log(1.0 - likelyhood) * (1.0 - p.y) for p in patient_data)\n",
    "print(log_likelyhood)"
   ]
  },
  {
   "cell_type": "markdown",
   "id": "907cf0d0-a699-47f6-8b99-169a84bdd014",
   "metadata": {},
   "source": [
    "Then, we just need to plug these values into the previous cited formula in order to get back $R^2$."
   ]
  },
  {
   "cell_type": "code",
   "execution_count": 14,
   "id": "94046a33-c7a6-4f8d-9b43-20fc5196981c",
   "metadata": {},
   "outputs": [
    {
     "name": "stdout",
     "output_type": "stream",
     "text": [
      "0.306456105756576\n"
     ]
    }
   ],
   "source": [
    "# Example 6-14 R^2 fpr a logistic regression\n",
    "from math import log, exp\n",
    "import pandas as pd\n",
    "\n",
    "# Data\n",
    "patient_data = list(pd.read_csv(\"https://bit.ly/33ebs2R\", delimiter=\",\").itertuples())\n",
    "\n",
    "# Set beta0 and beta1\n",
    "b0 = -3.17576395\n",
    "b1 = 0.69267212\n",
    "\n",
    "\n",
    "# Logistic function\n",
    "def logistic_function(x):\n",
    "    p = 1.0 / (1.0 + exp(-(b0 + b1 * x)))\n",
    "    return p\n",
    "\n",
    "# Log-likelyhood fit\n",
    "log_likelyhood_fit = sum(log(logistic_function(p.x)) * p.y + \\\n",
    "                         log(1.0 - logistic_function(p.x)) * (1.0 - p.y) for p in patient_data)\n",
    "\n",
    "# Log-likelyhood\n",
    "likelyhood = sum(p.y for p in patient_data) / len(patient_data)\n",
    "log_likelyhood = sum(log(likelyhood) * p.y + \\\n",
    "                         log(1.0 - likelyhood) * (1.0 - p.y) for p in patient_data)\n",
    "\n",
    "# R^2\n",
    "r2 = (log_likelyhood - log_likelyhood_fit) / (log_likelyhood)\n",
    "print(r2)"
   ]
  },
  {
   "cell_type": "markdown",
   "id": "d0a6ed22-73f1-47ee-bdbd-4bf8c28ec0aa",
   "metadata": {},
   "source": [
    "So, we can conclude that hours of exposure is mediocre for predicting symptoms."
   ]
  },
  {
   "cell_type": "markdown",
   "id": "cca26a29-fca7-449d-8b96-e251a79ba939",
   "metadata": {},
   "source": [
    "## P-Values"
   ]
  },
  {
   "cell_type": "markdown",
   "id": "0d4de44d-77ca-4210-8fb3-5f546f338eae",
   "metadata": {},
   "source": [
    "However, the $R^2$ is not enough. We need to check whether we saw this data by chance rather than because of an actual relationship. This means we need to compute the p-value.\n",
    "To do so, we need to use the $chi-square \\; distribution$. If we take each value in a standard normal distribution (mean 0 and std 1) and square it that will give us this distribution with one degree of freedom. In our case the degrees of fredoom is one since our parameters are 2 (one X and one Y), $df = n -1$.\n",
    "Then, the formula to get $chi-square$ value is the following:\n",
    "- $\\chi^2 = 2(log\\;likeliihood\\;fit) - (log\\;likelihood)$.\n",
    "\n",
    "Once we got the value  of the distribution we can campute its corrisponding p-value through this formula:\n",
    "- $p-value = chi(2(log\\;likeliihood\\;fit) - (log\\;likelihood))$."
   ]
  },
  {
   "cell_type": "code",
   "execution_count": 18,
   "id": "ff729039-9e07-41e8-85e6-f1c23737f20e",
   "metadata": {},
   "outputs": [
    {
     "name": "stdout",
     "output_type": "stream",
     "text": [
      "0.0016604875618753787\n"
     ]
    }
   ],
   "source": [
    "# Example 6-15 P-value for a given logistic regression\n",
    "import pandas as pd\n",
    "from math import log, exp\n",
    "from scipy.stats import chi2\n",
    "\n",
    "# Data\n",
    "patient_data = list(pd.read_csv(\"https://bit.ly/33ebs2R\", delimiter=\",\").itertuples())\n",
    "\n",
    "# Set beta0 and beta1\n",
    "b0 = -3.17576395\n",
    "b1 = 0.69267212\n",
    "\n",
    "\n",
    "# Logistic function\n",
    "def logistic_function(x):\n",
    "    p = 1.0 / (1.0 + exp(-(b0 + b1 * x)))\n",
    "    return p\n",
    "\n",
    "# Log-likelyhood fit\n",
    "log_likelyhood_fit = sum(log(logistic_function(p.x)) * p.y + \\\n",
    "                         log(1.0 - logistic_function(p.x)) * (1.0 - p.y) for p in patient_data)\n",
    "\n",
    "# Log-likelyhood\n",
    "likelyhood = sum(p.y for p in patient_data) / len(patient_data)\n",
    "log_likelyhood = sum(log(likelyhood) * p.y + \\\n",
    "                         log(1.0 - likelyhood) * (1.0 - p.y) for p in patient_data)\n",
    "\n",
    "# P-value\n",
    "chi2_value = 2 * (log_likelyhood_fit - log_likelyhood)\n",
    "p_value = chi2.pdf(chi2_value, 1)  # 1 is the df\n",
    "print(p_value)"
   ]
  },
  {
   "cell_type": "markdown",
   "id": "1b126eb3-4c3e-446f-bade-1e715e04986a",
   "metadata": {},
   "source": [
    "This p-value is way below the .05 threshold, meaning that this relationship did not happen by random chance."
   ]
  },
  {
   "cell_type": "markdown",
   "id": "dd687808-b5a2-44dd-b695-eff229e0e1c6",
   "metadata": {},
   "source": [
    "## Train/Test Splits"
   ]
  },
  {
   "cell_type": "markdown",
   "id": "7bc68b48-35c4-44b5-b50e-e7d67cb4ef7c",
   "metadata": {},
   "source": [
    "When we are dealing with more variables rely on statistical metric like R^2 and p-values become less practical, that's why we can use also here the train/test split methodology (to reduce over-fitting as well)."
   ]
  },
  {
   "cell_type": "code",
   "execution_count": 19,
   "id": "2c7d09d8-0d13-4232-8585-bd912bc8f9ea",
   "metadata": {},
   "outputs": [
    {
     "name": "stdout",
     "output_type": "stream",
     "text": [
      "[0.61111111 0.61111111 0.61111111]\n",
      "Accuracy Mean: 0.6111111111111112 (std=0.0)\n"
     ]
    }
   ],
   "source": [
    "# Example 6-16 Performing a logistic regressiion with three-fold CV\n",
    "import pandas as pd\n",
    "from sklearn.linear_model import LogisticRegression\n",
    "from sklearn.model_selection import KFold, cross_val_score\n",
    "\n",
    "# Data\n",
    "df = pd.read_csv(\"https://tinyurl.com/y6r7qjrp\", delimiter=\",\")\n",
    "\n",
    "# X\n",
    "X = df.values[:, :-1]\n",
    "# Y\n",
    "Y = df.values[:, -1]\n",
    "\n",
    "# Log. regression - k=3. shuffle = True -> Whether to shuffle the data \n",
    "# before splitting into batches. Note that the samples within each split \n",
    "# will not be shuffled.\n",
    "kfold = KFold(n_splits=3, random_state=7, shuffle=True)\n",
    "model = LogisticRegression(penalty=\"none\")\n",
    "results = cross_val_score(model, X, Y, cv=kfold)\n",
    "print(results)\n",
    "print(f\"Accuracy Mean: {results.mean()} (std={results.std()})\")"
   ]
  },
  {
   "cell_type": "markdown",
   "id": "5b06bbeb-a569-43c2-baf1-db0c84b0b332",
   "metadata": {},
   "source": [
    "## Confusion Matrices"
   ]
  },
  {
   "cell_type": "markdown",
   "id": "3583e539-7ce1-45d8-9748-1231b68e6695",
   "metadata": {},
   "source": []
  }
 ],
 "metadata": {
  "kernelspec": {
   "display_name": "Python 3 (ipykernel)",
   "language": "python",
   "name": "python3"
  },
  "language_info": {
   "codemirror_mode": {
    "name": "ipython",
    "version": 3
   },
   "file_extension": ".py",
   "mimetype": "text/x-python",
   "name": "python",
   "nbconvert_exporter": "python",
   "pygments_lexer": "ipython3",
   "version": "3.9.13"
  }
 },
 "nbformat": 4,
 "nbformat_minor": 5
}
