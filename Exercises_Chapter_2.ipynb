{
 "cells": [
  {
   "cell_type": "code",
   "execution_count": 1,
   "id": "eb0156ba",
   "metadata": {},
   "outputs": [],
   "source": [
    "# Import libriaries\n",
    "from scipy.stats import binom, beta"
   ]
  },
  {
   "cell_type": "markdown",
   "id": "14008258",
   "metadata": {},
   "source": [
    "# Exercises"
   ]
  },
  {
   "cell_type": "markdown",
   "id": "ccfe4d9e",
   "metadata": {},
   "source": [
    "#### Ex. 1\n",
    "#### There is a 30% chance of rain today, and a 40% chance your umbrella orderwill arrive on time. You are eager to walk in the rain today and cannot do so without either! \n",
    "#### What is the probability it will rain AND your umbrella will arrive?"
   ]
  },
  {
   "cell_type": "markdown",
   "id": "df4b876a",
   "metadata": {},
   "source": [
    "$P(A$ $and$ $B) = .30 * .40 = .12$"
   ]
  },
  {
   "cell_type": "markdown",
   "id": "21034686",
   "metadata": {},
   "source": [
    "#### Ex. 2\n",
    "#### There is a 30% chance of rain today, and 40% chance your umbrella order will arrive on time.\n",
    "#### You will be able to run errands only if it does not rain or your umbrella arrives.\n",
    "#### What is the probability it will NOT rain OR your umbrella arrives?"
   ]
  },
  {
   "cell_type": "markdown",
   "id": "184439c5",
   "metadata": {},
   "source": [
    "Since the events are not mutually exclusives we have to remove their joint probabilities."
   ]
  },
  {
   "cell_type": "markdown",
   "id": "605be664",
   "metadata": {},
   "source": [
    "$P(NOT$ $A$ $or$ $B) = (1 - .30) + .40 - (0.30 * .40) = 1.1 - .12 = 0.98$"
   ]
  },
  {
   "cell_type": "markdown",
   "id": "9a5aaff8",
   "metadata": {},
   "source": [
    "#### Ex. 3\n",
    "#### There is a 30% chance of rain today, and a 40% chance your umbrella orderwill arrive on time. \n",
    "#### However, you found out if it rains there is only a 20% chance your umbrella will arrive on time.\n",
    "#### What is the probability it will rain AND your umbrella will arrive on time?"
   ]
  },
  {
   "cell_type": "markdown",
   "id": "c5c26937",
   "metadata": {},
   "source": [
    "The second phrase is giving us a conditional probability --> $P(umbrella$ $|$ $rain) = .20$"
   ]
  },
  {
   "cell_type": "markdown",
   "id": "aa768346",
   "metadata": {},
   "source": [
    "In order to get $P(A$ $and$ $B)$ we need to multiply the conditional probability $P(A$ $|$ $B)$ with $P(B)$."
   ]
  },
  {
   "cell_type": "markdown",
   "id": "73e10b66",
   "metadata": {},
   "source": [
    "$P(A$ $and$ $B) = .20 * .30 = 0.06$"
   ]
  },
  {
   "cell_type": "markdown",
   "id": "9780db11",
   "metadata": {},
   "source": [
    "#### Ex. 4\n",
    "#### You have 137 passengers booked on a flight from Las Vegas to Dallas. However, it is Las Vegas on a Sunday Morning and you estimate each passenger is 40% likely to not show up.\n",
    "#### You are trying to figure out how many seats yo overbook so the plane does not fly empty.\n",
    "#### How likely is it at least 50 passengers will not show up?"
   ]
  },
  {
   "cell_type": "markdown",
   "id": "244f3ffe",
   "metadata": {},
   "source": [
    "Here, we are assuming 40% of passengers will not show up. We have 137 passengers already booked. So, we need to compute the probability that at least 50 of them will not show up."
   ]
  },
  {
   "cell_type": "markdown",
   "id": "ccae47bb",
   "metadata": {},
   "source": [
    "We need to use a binomial distribution."
   ]
  },
  {
   "cell_type": "code",
   "execution_count": 2,
   "id": "a2ca6126",
   "metadata": {},
   "outputs": [
    {
     "name": "stdout",
     "output_type": "stream",
     "text": [
      "0.8220955881474254\n"
     ]
    }
   ],
   "source": [
    "n = 137  # Total number of passengers\n",
    "p = .40  # Probability the passenger will not show up\n",
    "\n",
    "p_50_or_more = 0\n",
    "# k is the positive outcome which in this case is the probability the passenger will not show up\n",
    "for k in range(50, 137 + 1):\n",
    "    probability = binom.pmf(k, n, p)\n",
    "    p_50_or_more += probability\n",
    "\n",
    "# This script tells us the probability of getting at least 50 passengers not showing up out of 137\n",
    "print(p_50_or_more)"
   ]
  },
  {
   "cell_type": "markdown",
   "id": "ae6aeba9",
   "metadata": {},
   "source": [
    "There is 82% probability at least 50 passengers will not showing up."
   ]
  },
  {
   "cell_type": "markdown",
   "id": "02d47dda",
   "metadata": {},
   "source": [
    "#### Ex. 5\n",
    "#### You flipped a coin 19 times and got 15 heads and 4 tails.\n",
    "#### Do you think this coin has any good probability of being fair? Why or why not?"
   ]
  },
  {
   "cell_type": "markdown",
   "id": "86f272ff",
   "metadata": {},
   "source": [
    "To check the probability this coin is fair or not we need to use the beta distribution."
   ]
  },
  {
   "cell_type": "code",
   "execution_count": 3,
   "id": "5b3ee4d2",
   "metadata": {},
   "outputs": [
    {
     "data": {
      "text/plain": [
       "0.9962310791015625"
      ]
     },
     "execution_count": 3,
     "metadata": {},
     "output_type": "execute_result"
    }
   ],
   "source": [
    "heads = 15\n",
    "tails = 4 \n",
    "\n",
    "p = 1 - beta.cdf(.5, heads, tails)\n",
    "p"
   ]
  },
  {
   "cell_type": "markdown",
   "id": "646bc353",
   "metadata": {},
   "source": [
    "In this way we are computing the probability of getting at least 15/2 heads out of 19 trials. The probability is really high, meaning the coin is not fair."
   ]
  }
 ],
 "metadata": {
  "kernelspec": {
   "display_name": "Python 3 (ipykernel)",
   "language": "python",
   "name": "python3"
  },
  "language_info": {
   "codemirror_mode": {
    "name": "ipython",
    "version": 3
   },
   "file_extension": ".py",
   "mimetype": "text/x-python",
   "name": "python",
   "nbconvert_exporter": "python",
   "pygments_lexer": "ipython3",
   "version": "3.9.13"
  }
 },
 "nbformat": 4,
 "nbformat_minor": 5
}
