{
 "cells": [
  {
   "cell_type": "markdown",
   "id": "38a8d66b-9ae3-4a94-8ebf-b984f8b7fd3f",
   "metadata": {},
   "source": [
    "# Exercises"
   ]
  },
  {
   "cell_type": "markdown",
   "id": "75c0feae-7469-4ec2-8702-79ca942e2774",
   "metadata": {},
   "source": [
    "Dataset with three input variables, RED, GREEN and BLUE as well as an output variable LIGHT_OR_DARK_FONT_IND is provided here at https://bit.ly/3imidqa. It will bie used to predict whether a light/dark font (0/1 respectively) will work for a given background color (specified specified by RGB values)."
   ]
  },
  {
   "cell_type": "code",
   "execution_count": 2,
   "id": "a359efbc",
   "metadata": {},
   "outputs": [
    {
     "data": {
      "text/html": [
       "<div>\n",
       "<style scoped>\n",
       "    .dataframe tbody tr th:only-of-type {\n",
       "        vertical-align: middle;\n",
       "    }\n",
       "\n",
       "    .dataframe tbody tr th {\n",
       "        vertical-align: top;\n",
       "    }\n",
       "\n",
       "    .dataframe thead th {\n",
       "        text-align: right;\n",
       "    }\n",
       "</style>\n",
       "<table border=\"1\" class=\"dataframe\">\n",
       "  <thead>\n",
       "    <tr style=\"text-align: right;\">\n",
       "      <th></th>\n",
       "      <th>RED</th>\n",
       "      <th>GREEN</th>\n",
       "      <th>BLUE</th>\n",
       "      <th>LIGHT_OR_DARK_FONT_IND</th>\n",
       "    </tr>\n",
       "  </thead>\n",
       "  <tbody>\n",
       "    <tr>\n",
       "      <th>0</th>\n",
       "      <td>0</td>\n",
       "      <td>0</td>\n",
       "      <td>0</td>\n",
       "      <td>0</td>\n",
       "    </tr>\n",
       "    <tr>\n",
       "      <th>1</th>\n",
       "      <td>0</td>\n",
       "      <td>0</td>\n",
       "      <td>128</td>\n",
       "      <td>0</td>\n",
       "    </tr>\n",
       "    <tr>\n",
       "      <th>2</th>\n",
       "      <td>0</td>\n",
       "      <td>0</td>\n",
       "      <td>139</td>\n",
       "      <td>0</td>\n",
       "    </tr>\n",
       "    <tr>\n",
       "      <th>3</th>\n",
       "      <td>0</td>\n",
       "      <td>0</td>\n",
       "      <td>205</td>\n",
       "      <td>0</td>\n",
       "    </tr>\n",
       "    <tr>\n",
       "      <th>4</th>\n",
       "      <td>0</td>\n",
       "      <td>0</td>\n",
       "      <td>238</td>\n",
       "      <td>0</td>\n",
       "    </tr>\n",
       "  </tbody>\n",
       "</table>\n",
       "</div>"
      ],
      "text/plain": [
       "   RED  GREEN  BLUE  LIGHT_OR_DARK_FONT_IND\n",
       "0    0      0     0                       0\n",
       "1    0      0   128                       0\n",
       "2    0      0   139                       0\n",
       "3    0      0   205                       0\n",
       "4    0      0   238                       0"
      ]
     },
     "execution_count": 2,
     "metadata": {},
     "output_type": "execute_result"
    }
   ],
   "source": [
    "import pandas as pd\n",
    "\n",
    "# Load DF\n",
    "df = pd.read_csv(\"https://bit.ly/3imidqa\", delimiter=\",\")\n",
    "df.head()"
   ]
  },
  {
   "cell_type": "markdown",
   "id": "76c38fff-869d-405c-ac77-d9245e266f0d",
   "metadata": {},
   "source": [
    "#### Ex. 1\n",
    "#### Perform a logistic regression on the preceding data, using three-fold cross-validation and accuracy as your metric."
   ]
  },
  {
   "cell_type": "code",
   "execution_count": 157,
   "id": "6d4da7f4-8347-4071-84a2-6721a09c1815",
   "metadata": {},
   "outputs": [
    {
     "name": "stdout",
     "output_type": "stream",
     "text": [
      "Accuracy: 0.9985 (0.0021)\n"
     ]
    }
   ],
   "source": [
    "import pandas as pd\n",
    "from sklearn.linear_model import LogisticRegression\n",
    "from sklearn.model_selection import KFold, cross_val_score\n",
    "from sklearn.metrics import confusion_matrix\n",
    "\n",
    "# Load DF\n",
    "df = pd.read_csv(\"https://bit.ly/3imidqa\", delimiter=\",\")\n",
    "df.head()\n",
    "\n",
    "# Define X and Y\n",
    "X = df.values[:, :-1]\n",
    "Y = df.values[:, -1]\n",
    "\n",
    "# Model, k=3\n",
    "kfold = KFold(n_splits=3, shuffle=True)\n",
    "model = LogisticRegression(penalty=\"none\")\n",
    "results = cross_val_score(model, X, Y, cv=kfold)\n",
    "print(f\"Accuracy: {(round(results.mean(), 4))} ({round(results.std(), 4)})\")"
   ]
  },
  {
   "cell_type": "markdown",
   "id": "39b2d61b-f28d-449a-bfb0-cf2cbe2c9d2c",
   "metadata": {},
   "source": [
    "#### Ex. 2\n",
    "#### Produce a confusion matrix comparing the predictions and actual data."
   ]
  },
  {
   "cell_type": "code",
   "execution_count": 193,
   "id": "73f1608a-79e2-4cc4-955f-2fad6381905f",
   "metadata": {},
   "outputs": [
    {
     "name": "stdout",
     "output_type": "stream",
     "text": [
      "[[  0   0   0]\n",
      " [  0   0 128]\n",
      " [  0   0 139]\n",
      " ...\n",
      " [ 97  97  97]\n",
      " [ 99 184 255]\n",
      " [ 99  99  99]]\n",
      "[[157   7]\n",
      " [  0 280]]\n"
     ]
    }
   ],
   "source": [
    "import pandas as pd\n",
    "from sklearn.linear_model import LogisticRegression\n",
    "from sklearn.model_selection import train_test_split\n",
    "from sklearn.metrics import confusion_matrix\n",
    "\n",
    "\n",
    "# Load DF\n",
    "df = pd.read_csv(\"https://bit.ly/3imidqa\", delimiter=\",\")\n",
    "df.head()\n",
    "\n",
    "# Define X and Y\n",
    "X = df.values[:, :-1]\n",
    "Y = df.values[:, -1]\n",
    "print(X)\n",
    "# Model & prediction\n",
    "model = LogisticRegression(solver=\"liblinear\")\n",
    "X_train, X_test, Y_train, Y_test = train_test_split(X, Y, test_size=.33, shuffle=True)\n",
    "model.fit(X_train, Y_train)\n",
    "prediction = model.predict(X_test)\n",
    "\n",
    "# Confusion matrix\n",
    "confusion_matrix = confusion_matrix(y_true=Y_test, y_pred=prediction)\n",
    "print(confusion_matrix)"
   ]
  },
  {
   "cell_type": "markdown",
   "id": "a6e73f6e-972c-47c5-bda8-3144cc12f88a",
   "metadata": {},
   "source": [
    "#### Ex. 3\n",
    "#### Pick a few different background colors and see if the logistic regression sensibly chooses a light (0) or dark (1) font for each one. Use this link: https://bit.ly/3FHywrZ."
   ]
  },
  {
   "cell_type": "code",
   "execution_count": 198,
   "id": "47f3491f-469e-4b8e-afb1-109741b45d7e",
   "metadata": {},
   "outputs": [
    {
     "name": "stdout",
     "output_type": "stream",
     "text": [
      "[[  0   0   0]\n",
      " [  0   0 128]\n",
      " [  0   0 139]\n",
      " ...\n",
      " [ 97  97  97]\n",
      " [ 99 184 255]\n",
      " [ 99  99  99]]\n",
      "[0]\n",
      "[1]\n",
      "[0]\n",
      "[1]\n"
     ]
    }
   ],
   "source": [
    "import pandas as pd\n",
    "from sklearn.linear_model import LogisticRegression\n",
    "from sklearn.model_selection import train_test_split\n",
    "from sklearn.metrics import confusion_matrix\n",
    "import numpy as np\n",
    "\n",
    "\n",
    "# Load DF\n",
    "df = pd.read_csv(\"https://bit.ly/3imidqa\", delimiter=\",\")\n",
    "df.head()\n",
    "\n",
    "# Define X and Y\n",
    "X = df.values[:, :-1]\n",
    "Y = df.values[:, -1]\n",
    "print(X)\n",
    "# Model & prediction\n",
    "model = LogisticRegression(solver=\"liblinear\")\n",
    "X_train, X_test, Y_train, Y_test = train_test_split(X, Y, test_size=.33, shuffle=True)\n",
    "model.fit(X_train, Y_train)\n",
    "\n",
    "# Specific predictions test - Background WHITE\n",
    "x_new_test_1 = np.array([[66, 0, 0]])  # Dark-red\n",
    "prediction1 = model.predict(x_new_test_1)\n",
    "print(prediction1)\n",
    "\n",
    "# Specific predictions test - Background BLACK\n",
    "x_new_test_2 = np.array([[66, 242, 0]])  # Green\n",
    "prediction2 = model.predict(x_new_test_2)\n",
    "print(prediction2)\n",
    "\n",
    "# Specific predictions test - Background WHITE\n",
    "x_new_test_3 = np.array([[0, 0, 0]])  # Black\n",
    "prediction3 = model.predict(x_new_test_1)\n",
    "print(prediction3)\n",
    "\n",
    "# Specific predictions test - Background BLACK\n",
    "x_new_test_4 = np.array([[255, 255, 255]])  # White\n",
    "prediction4 = model.predict(x_new_test_2)\n",
    "print(prediction4)"
   ]
  },
  {
   "cell_type": "markdown",
   "id": "f1365812-db45-4950-83f9-b40a42359b78",
   "metadata": {},
   "source": [
    "#### Ex. 4\n",
    "#### Based on the preceding exercises, do you think logistic regression is effective for predicting a light or dark font for a given background color?"
   ]
  },
  {
   "cell_type": "markdown",
   "id": "7afc0085",
   "metadata": {},
   "source": [
    "Yes since from previous predictions it seems to perform really well. In addition, there are few errors displayed within the confusion matrix."
   ]
  }
 ],
 "metadata": {
  "kernelspec": {
   "display_name": "Python 3 (ipykernel)",
   "language": "python",
   "name": "python3"
  },
  "language_info": {
   "codemirror_mode": {
    "name": "ipython",
    "version": 3
   },
   "file_extension": ".py",
   "mimetype": "text/x-python",
   "name": "python",
   "nbconvert_exporter": "python",
   "pygments_lexer": "ipython3",
   "version": "3.9.13"
  }
 },
 "nbformat": 4,
 "nbformat_minor": 5
}
