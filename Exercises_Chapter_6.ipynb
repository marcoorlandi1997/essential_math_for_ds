{
 "cells": [
  {
   "cell_type": "markdown",
   "id": "38a8d66b-9ae3-4a94-8ebf-b984f8b7fd3f",
   "metadata": {},
   "source": [
    "# Exercises"
   ]
  },
  {
   "cell_type": "markdown",
   "id": "75c0feae-7469-4ec2-8702-79ca942e2774",
   "metadata": {},
   "source": [
    "Dataset with three input variables, RED, GREEN and BLUE as well as an output variable LIGHT_OR_DARK_FONT_IND is provided here at https://bit.ly/3imidqa. It will bie used to predict whether a light/dark font (0/1 respectively) will work for a given background color (specified specified by RGB values)."
   ]
  },
  {
   "cell_type": "markdown",
   "id": "76c38fff-869d-405c-ac77-d9245e266f0d",
   "metadata": {},
   "source": [
    "#### Ex. 1\n",
    "#### Perform a logistic regression on the preceding data, using three-fold cross-validation and accuracy as your metric."
   ]
  },
  {
   "cell_type": "code",
   "execution_count": null,
   "id": "6d4da7f4-8347-4071-84a2-6721a09c1815",
   "metadata": {},
   "outputs": [],
   "source": []
  },
  {
   "cell_type": "markdown",
   "id": "39b2d61b-f28d-449a-bfb0-cf2cbe2c9d2c",
   "metadata": {},
   "source": [
    "#### Ex. 2\n",
    "#### Produce a confusion matrix comparing the predictions and actual data."
   ]
  },
  {
   "cell_type": "code",
   "execution_count": null,
   "id": "73f1608a-79e2-4cc4-955f-2fad6381905f",
   "metadata": {},
   "outputs": [],
   "source": []
  },
  {
   "cell_type": "markdown",
   "id": "a6e73f6e-972c-47c5-bda8-3144cc12f88a",
   "metadata": {},
   "source": [
    "#### Ex. 3\n",
    "#### Pick a few different background colors and see if the logistic regression sensibly chooses a light (0) or dark (1) font for each one."
   ]
  },
  {
   "cell_type": "code",
   "execution_count": null,
   "id": "47f3491f-469e-4b8e-afb1-109741b45d7e",
   "metadata": {},
   "outputs": [],
   "source": []
  },
  {
   "cell_type": "markdown",
   "id": "f1365812-db45-4950-83f9-b40a42359b78",
   "metadata": {},
   "source": [
    "#### Ex. 4\n",
    "#### Based on the preceding exercises, do you think logistic regression is effective for predicting a light or dark font for a given background color?"
   ]
  },
  {
   "cell_type": "code",
   "execution_count": null,
   "id": "ba936cfb-a2ac-4ea3-8b74-df4651b6cf02",
   "metadata": {},
   "outputs": [],
   "source": []
  }
 ],
 "metadata": {
  "kernelspec": {
   "display_name": "Python 3 (ipykernel)",
   "language": "python",
   "name": "python3"
  },
  "language_info": {
   "codemirror_mode": {
    "name": "ipython",
    "version": 3
   },
   "file_extension": ".py",
   "mimetype": "text/x-python",
   "name": "python",
   "nbconvert_exporter": "python",
   "pygments_lexer": "ipython3",
   "version": "3.9.13"
  }
 },
 "nbformat": 4,
 "nbformat_minor": 5
}
