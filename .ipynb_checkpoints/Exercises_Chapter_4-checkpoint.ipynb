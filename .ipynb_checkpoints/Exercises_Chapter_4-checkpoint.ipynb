{
 "cells": [
  {
   "cell_type": "markdown",
   "id": "fc9fd461-4f11-441d-a8ed-9fb780658f73",
   "metadata": {},
   "source": [
    "# Exercises"
   ]
  },
  {
   "cell_type": "markdown",
   "id": "28b7552b-2774-467e-8422-6320fafec50b",
   "metadata": {},
   "source": [
    "#### Ex. 1\n",
    "#### Vector $\\vec{v}$ has a value of $[1, 2]$ but then a trasformation happens.  $\\hat{i}$ lands at $[2, 0]$ and $\\hat{j}$ lands at $[0, 1.5]$.\n",
    "#### Where does $\\vec{v}$ land?"
   ]
  },
  {
   "cell_type": "code",
   "execution_count": 1,
   "id": "4c97d68c-2355-47a6-98c8-b7b870d74fdd",
   "metadata": {},
   "outputs": [
    {
     "name": "stdout",
     "output_type": "stream",
     "text": [
      "[[2.  0. ]\n",
      " [0.  1.5]]\n",
      "[2. 3.]\n"
     ]
    }
   ],
   "source": [
    "import numpy as np\n",
    "\n",
    "# Basis vector\n",
    "i_hat = np.array([2, 0])\n",
    "j_hat = np.array([0, 1.5])\n",
    "basis = np.array([i_hat, j_hat]).transpose()\n",
    "print(basis)\n",
    "\n",
    "# Vector v\n",
    "v = np.array([1, 2])\n",
    "new_vector_v = basis.dot(v)\n",
    "print(new_vector_v)"
   ]
  },
  {
   "cell_type": "markdown",
   "id": "d0e90cec-eb3a-4d63-aca8-5a4511f74574",
   "metadata": {},
   "source": [
    "#### Ex. 2\n",
    "#### Vector $\\vec{v}$ has a value of $[1, 2]$ but then a trasformation happens.  $\\hat{i}$ lands at $[-2, 1]$ and $\\hat{j}$ lands at $[1, -2]$.\n",
    "#### Where does $\\vec{v}$ land?"
   ]
  },
  {
   "cell_type": "code",
   "execution_count": 2,
   "id": "1a3ecf4c-032f-4224-a2bc-c402005b7d44",
   "metadata": {},
   "outputs": [
    {
     "name": "stdout",
     "output_type": "stream",
     "text": [
      "[[-2  1]\n",
      " [ 1 -2]]\n",
      "[ 0 -3]\n"
     ]
    }
   ],
   "source": [
    "import numpy as np\n",
    "\n",
    "# Basis vector\n",
    "i_hat = np.array([-2, 1])\n",
    "j_hat = np.array([1, -2])\n",
    "basis = np.array([i_hat, j_hat]).transpose()\n",
    "print(basis)\n",
    "\n",
    "# Vector v\n",
    "v = np.array([1, 2])\n",
    "new_vector_v = basis.dot(v)\n",
    "print(new_vector_v)"
   ]
  },
  {
   "cell_type": "markdown",
   "id": "f6d720d1-7cfb-4bd5-96c9-f992ae01e27c",
   "metadata": {},
   "source": [
    "#### Ex. 3\n",
    "#### A trasformation $\\hat{i}$ lands at $[1, 0]$ and $\\hat{j}$ lands at $[2, 2]$. What is the determinant of this transformation?"
   ]
  },
  {
   "cell_type": "code",
   "execution_count": 3,
   "id": "20ee0432-29cf-404a-910c-800e241ede73",
   "metadata": {},
   "outputs": [
    {
     "name": "stdout",
     "output_type": "stream",
     "text": [
      "[[1 2]\n",
      " [0 2]]\n",
      "2.0\n"
     ]
    }
   ],
   "source": [
    "from numpy.linalg import det\n",
    "from numpy import array\n",
    "\n",
    "# Basis vector\n",
    "i_hat = array([1, 0])\n",
    "j_hat = array([2, 2])\n",
    "basis = array([i_hat, j_hat]).transpose()\n",
    "print(basis)\n",
    "\n",
    "# Determinant\n",
    "determinant = det(basis)\n",
    "print(determinant)"
   ]
  },
  {
   "cell_type": "markdown",
   "id": "cdf3271f-c5e4-49cb-9b81-5c91182f81b7",
   "metadata": {},
   "source": [
    "#### Ex. 4\n",
    "#### Can two or more linear transformations be done in single linear transformations? Why or why not."
   ]
  },
  {
   "cell_type": "markdown",
   "id": "59f6c5fc-13a6-49ff-9102-c158bdc07a22",
   "metadata": {},
   "source": [
    "We can do it, for example if we had a simple vector $\\vec{v}$ that lands at $[1, 1]$ we can with a simple basis vector rotate or shear it, simultaneusly."
   ]
  },
  {
   "cell_type": "markdown",
   "id": "a73203ab-005a-4393-acc4-6fc8e804bc07",
   "metadata": {},
   "source": [
    "#### Ex. 5\n",
    "#### Solve the system of equations for $x$, $y$, and $z$:\n",
    "- $3x + 1y+ 0z = 54$;\n",
    "- $2x + 4y + 1z = 12$;\n",
    "- $3x + 1y + 8z = 6$."
   ]
  },
  {
   "cell_type": "code",
   "execution_count": 6,
   "id": "5432eb1e-0059-4b18-80ae-318052641f59",
   "metadata": {},
   "outputs": [
    {
     "name": "stdout",
     "output_type": "stream",
     "text": [
      "[19.8 -5.4 -6. ]\n"
     ]
    }
   ],
   "source": [
    "from numpy.linalg import inv\n",
    "from numpy import array\n",
    "\n",
    "# 3x + 1y+ 0z = 54\n",
    "# 2x + 4y + 1z = 12\n",
    "# 3x + 1y + 8z = 6\n",
    "\n",
    "A = array([\n",
    "    [3, 1, 0],\n",
    "    [2, 4, 1],\n",
    "    [3, 1, 8]\n",
    "])\n",
    "\n",
    "B = array([54,\n",
    "           12,\n",
    "           6])\n",
    "\n",
    "# Get X = A^-1 * B\n",
    "X = inv(A).dot(B)\n",
    "print(X)  # X = 19.8, Y = -5.7 and Z = -6"
   ]
  },
  {
   "cell_type": "markdown",
   "id": "0c69368e-e84a-478d-a700-ec3d848f6a38",
   "metadata": {},
   "source": [
    "#### Ex. 6\n",
    "#### Is the following matrix linearly dependent? Why or why not?\n",
    "\\begin{bmatrix}2&1\\\\6&3\\end{bmatrix}"
   ]
  },
  {
   "cell_type": "markdown",
   "id": "80c21f0f-b871-4a26-bf46-bfab146496c8",
   "metadata": {},
   "source": [
    "To check wheather a matrix is linearly dependent or not we need to compute its determinant. If it equals 0 then it means we have matrix that is linearly dependent, meaning we have at our hands a problems which is either difficult or impossible to be solved."
   ]
  },
  {
   "cell_type": "code",
   "execution_count": 10,
   "id": "0a71b3f1-6cd4-464a-b98c-56407a37b221",
   "metadata": {},
   "outputs": [
    {
     "name": "stdout",
     "output_type": "stream",
     "text": [
      "[[2 1]\n",
      " [6 3]]\n",
      "0.0\n"
     ]
    }
   ],
   "source": [
    "from numpy.linalg import det\n",
    "from numpy import array\n",
    "\n",
    "# Basis vector\n",
    "i_hat = array([2, 6])\n",
    "j_hat = array([1, 3])\n",
    "basis = array([i_hat, j_hat]).transpose()\n",
    "print(basis)\n",
    "\n",
    "# Determinant\n",
    "determinant = det(basis)\n",
    "print(determinant)"
   ]
  },
  {
   "cell_type": "markdown",
   "id": "b94fe977-e936-4174-8917-e481d598b426",
   "metadata": {},
   "source": [
    "Our matrix is linearly dependent since the determinant is equal to 0."
   ]
  }
 ],
 "metadata": {
  "kernelspec": {
   "display_name": "Python 3 (ipykernel)",
   "language": "python",
   "name": "python3"
  },
  "language_info": {
   "codemirror_mode": {
    "name": "ipython",
    "version": 3
   },
   "file_extension": ".py",
   "mimetype": "text/x-python",
   "name": "python",
   "nbconvert_exporter": "python",
   "pygments_lexer": "ipython3",
   "version": "3.9.13"
  }
 },
 "nbformat": 4,
 "nbformat_minor": 5
}
