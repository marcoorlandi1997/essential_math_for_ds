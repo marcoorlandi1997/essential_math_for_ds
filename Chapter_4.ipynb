{
 "cells": [
  {
   "cell_type": "markdown",
   "id": "4afabda0-0e30-4624-b692-6ead9a5cf089",
   "metadata": {},
   "source": [
    "# Linear Algebra"
   ]
  },
  {
   "cell_type": "markdown",
   "id": "5d5e1bfd-cf74-402b-8c61-7dfbab87236d",
   "metadata": {},
   "source": [
    "## What is a vector?"
   ]
  },
  {
   "cell_type": "markdown",
   "id": "359f9f55-b8ac-4c3a-9953-94bac286f9ea",
   "metadata": {},
   "source": [
    "A vector is an arrow in space with a specific direction and lenght, often representing a piece of data. We declare a vector this way:\n",
    "- $\\vec{v} = \\begin{bmatrix}x \\\\ y\\end{bmatrix}$."
   ]
  },
  {
   "cell_type": "code",
   "execution_count": 1,
   "id": "4b70a44f-e20f-4c0a-ab1b-bbaf1ab3639f",
   "metadata": {},
   "outputs": [
    {
     "name": "stdout",
     "output_type": "stream",
     "text": [
      "[3, 2]\n"
     ]
    }
   ],
   "source": [
    "# Example 4-1 Declaring a vector in Python\n",
    "v = [3,2]\n",
    "print(v)"
   ]
  },
  {
   "cell_type": "code",
   "execution_count": 2,
   "id": "4c5ea918-1a99-4e5a-9c5d-db8c104390f8",
   "metadata": {},
   "outputs": [
    {
     "name": "stdout",
     "output_type": "stream",
     "text": [
      "[3 2]\n"
     ]
    }
   ],
   "source": [
    "# Example 4-2 Declaring a vector in Python using NumPy\n",
    "import numpy as np\n",
    "v = np.array([3, 2])\n",
    "print(v)"
   ]
  },
  {
   "cell_type": "markdown",
   "id": "42ff4040-33e1-4e18-af03-5cf157e817bf",
   "metadata": {},
   "source": [
    "We can declare vectors that have more than 2 dimensions, like the following:\n",
    "- $\\vec{v} = \\begin{bmatrix}x \\\\ y \\\\ z\\end{bmatrix}$."
   ]
  },
  {
   "cell_type": "code",
   "execution_count": 3,
   "id": "3711ba80-278a-4644-a3b2-b8a1206b720a",
   "metadata": {},
   "outputs": [
    {
     "name": "stdout",
     "output_type": "stream",
     "text": [
      "[4 1 2]\n"
     ]
    }
   ],
   "source": [
    "# Example 4-3 Declaring a three-dimensional vector in Python using NumPy\n",
    "import numpy as np\n",
    "v = np.array([4, 1, 2])\n",
    "print(v)"
   ]
  },
  {
   "cell_type": "code",
   "execution_count": 4,
   "id": "00ba5255-6d6c-4c8f-8a89-320d889d1822",
   "metadata": {},
   "outputs": [
    {
     "name": "stdout",
     "output_type": "stream",
     "text": [
      "[4 1 2 5 7]\n"
     ]
    }
   ],
   "source": [
    "# Example 4-4 Declaring a five-dimensional vector in Python using NumPy\n",
    "import numpy as np\n",
    "v = np.array([4, 1, 2, 5, 7])\n",
    "print(v)"
   ]
  },
  {
   "cell_type": "markdown",
   "id": "7cb83369-58b9-4172-8afd-6429af296e40",
   "metadata": {},
   "source": [
    "### Adding and Combining Vectors"
   ]
  },
  {
   "cell_type": "markdown",
   "id": "8908ff6f-0d9d-4097-af48-12b54ae6f719",
   "metadata": {},
   "source": [
    "If we want to combine vectors we simply need to add the respective x-values and y-values into a new vector. We can visually do this by connecting graphically the second to the first. The point we end up is a new vector, the result of summing the two vectors.\n",
    "The order of operation does not matter."
   ]
  },
  {
   "cell_type": "code",
   "execution_count": 5,
   "id": "3b012887-d7b8-4df3-80f4-153e734b4d73",
   "metadata": {},
   "outputs": [
    {
     "name": "stdout",
     "output_type": "stream",
     "text": [
      "[5 1]\n"
     ]
    }
   ],
   "source": [
    "# Example 4-5 Adding two vectors in Python using NumPy\n",
    "import numpy as np\n",
    "v = np.array([3, 2])\n",
    "w = np.array([2, -1])\n",
    "v_plus_w = v + w\n",
    "print(v_plus_w)"
   ]
  },
  {
   "cell_type": "markdown",
   "id": "3d8ffbb2-52c3-43c5-8295-e8a63846ebb5",
   "metadata": {},
   "source": [
    "### Scaling Vectors"
   ]
  },
  {
   "cell_type": "markdown",
   "id": "9951aeca-a6e2-486b-a412-a27cc9f876fc",
   "metadata": {},
   "source": [
    "Scaling is growing or shrinking a vector's lenght. We do it by multiplying or scaling it with a single value, known as a scalar. Mathematically, we simply multiply each element of our vectory by the scalar value."
   ]
  },
  {
   "cell_type": "code",
   "execution_count": 6,
   "id": "988037ea-3926-4473-b12e-bfcc5d642bec",
   "metadata": {},
   "outputs": [
    {
     "name": "stdout",
     "output_type": "stream",
     "text": [
      "[6. 2.]\n"
     ]
    }
   ],
   "source": [
    "# Exampkle 4-6 Scaling a number in Python using NumPy\n",
    "import numpy as np\n",
    "v = np.array([3, 1])\n",
    "scaled_v = v * 2.0\n",
    "print(scaled_v)"
   ]
  },
  {
   "cell_type": "markdown",
   "id": "5ba42c8f-f943-4097-9924-c442ee1cb5ff",
   "metadata": {},
   "source": [
    "It is important to note that scaling a vector does not change its direction, only its magnitude apart when we multiply it by a negative number which flips it."
   ]
  },
  {
   "cell_type": "markdown",
   "id": "0b55cb86-e0ae-435e-ace1-1ec5770815f3",
   "metadata": {},
   "source": [
    "### Span and Linear Dependence"
   ]
  },
  {
   "cell_type": "markdown",
   "id": "b3c70d44-b365-4f69-95e0-6f2f53deb021",
   "metadata": {},
   "source": [
    "These two operations, adding two vectors and scaling them, allows us to create whatever vector we want. This span, is in most cases unlimited. This applies when we have linearly indipendent vectors, so, when their directions are different. Otherwise, when they are on the same line, we are stuck on that line, whatever we add or use as a scaling value, at most we can go to negative values, that is because they are linearly dependent.\n",
    "\n",
    "When we have vectors that are linearly dependent on a 3 or more dimensions, we often get stuck on a plane in a smaller number of dimensions. And, we do care about linear dependence because a lot of problems become unsolvable or difficult when vectors are linearly indipendent. We will use the determinant to check for linear dependence."
   ]
  },
  {
   "cell_type": "markdown",
   "id": "519a04ff",
   "metadata": {},
   "source": [
    "## Linear Transformations"
   ]
  },
  {
   "cell_type": "markdown",
   "id": "0ffd8b2e",
   "metadata": {},
   "source": [
    "The concept of adding two vectors with fixed direction in ordeer to get different vectors is important. Indeed, we can get whatever vector we want execept in cases of linear dependence. This means we can use a vector to transform another vector in a function-like manner."
   ]
  },
  {
   "cell_type": "markdown",
   "id": "6467bd37",
   "metadata": {},
   "source": [
    "### Basis Vectors"
   ]
  },
  {
   "cell_type": "markdown",
   "id": "d615ba73",
   "metadata": {},
   "source": [
    "Let's say we have two simple vectors $\\hat{i}$ and $\\hat{j}$ and call them $basis$ $vectors$, which are used to describe transformations on other vectors. They tipically have a lenght of 1 and point in perpendicular positive directions. These simple vectors are our building blocks, and are expressed (or packaged) in a $2x2$ matrix:\n",
    "\n",
    "- $\\hat{i} = \\begin{bmatrix}1 \\\\ 0\\end{bmatrix}$;\n",
    "- $\\hat{j}= \\begin{bmatrix}0 \\\\ 1\\end{bmatrix}$,\n",
    "- $basis$ $vector$ $= \\begin{bmatrix}1,0\\\\0,1\\end{bmatrix}$."
   ]
  },
  {
   "cell_type": "markdown",
   "id": "703b5f65",
   "metadata": {},
   "source": [
    "With this in mind, let's call the result of this matrix our vector v, $\\hat{v}$, which points at $(1,1)$. Now, we can stretch our simple vectors in order to allow our vector $\\hat{v}$ to land at $(3,2)$:\n",
    "- $\\hat{i} = 3*\\begin{bmatrix}1 \\\\ 0\\end{bmatrix} = \\begin{bmatrix}3 \\\\ 0\\end{bmatrix}$;\n",
    "- $\\hat{j} = 2*\\begin{bmatrix}0 \\\\ 1\\end{bmatrix} = \\begin{bmatrix}0 \\\\ 2\\end{bmatrix}$,\n",
    "- $\\hat{v} = \\begin{bmatrix}3 \\\\ 0\\end{bmatrix} + \\begin{bmatrix}0 \\\\ 2\\end{bmatrix} = \\begin{bmatrix}3,0\\\\0,2\\end{bmatrix}$."
   ]
  },
  {
   "cell_type": "markdown",
   "id": "380d0c83",
   "metadata": {},
   "source": [
    "It is important to note that we cannot have transformations that are nonlinear, resultying then in curvy or squiggly transformations that no longer respect a straight line."
   ]
  },
  {
   "cell_type": "markdown",
   "id": "bcea2620",
   "metadata": {},
   "source": [
    "## Matrix Vector Multiplication"
   ]
  },
  {
   "cell_type": "markdown",
   "id": "feb5ae27",
   "metadata": {},
   "source": [
    "We can transform an existing vector v given basis vectors i and j packaged as a matrix. This transformation is known as matrix vector multiplication. It is a shortcut for adding together i and j and then scaling it with the vector v.\n",
    "NumPy populates the matrix as a row rather than a column, so, we need to transpose them if we want to break out the basis vector."
   ]
  },
  {
   "cell_type": "code",
   "execution_count": 11,
   "id": "a038df91",
   "metadata": {},
   "outputs": [
    {
     "name": "stdout",
     "output_type": "stream",
     "text": [
      "[3 2]\n"
     ]
    }
   ],
   "source": [
    "# Example 4-7 Matrix vector multiplication in NumPy\n",
    "import numpy as np\n",
    "\n",
    "basis = np.array([[3, 0],\n",
    "                  [0, 2]]\n",
    "                )\n",
    "\n",
    "v = np.array([1, 1])\n",
    "\n",
    "new_vector_v = basis.dot(v)\n",
    "print(new_vector_v)"
   ]
  },
  {
   "cell_type": "code",
   "execution_count": 25,
   "id": "97c23da4",
   "metadata": {},
   "outputs": [
    {
     "name": "stdout",
     "output_type": "stream",
     "text": [
      "[[2 0]\n",
      " [0 3]]\n",
      "[2 3]\n"
     ]
    }
   ],
   "source": [
    "# Example 4-8 Separating the basis vectors and applying them as a transformation\n",
    "import numpy as np\n",
    "i_hat = np.array([2, 0])\n",
    "j_hat = np.array([0, 3])\n",
    "basis = np.array([i_hat, j_hat]).transpose()\n",
    "print(basis)\n",
    "v = np.array([1, 1])\n",
    "new_vector_v = basis.dot(v)\n",
    "print(new_vector_v)"
   ]
  },
  {
   "cell_type": "code",
   "execution_count": 44,
   "id": "f7ca9210",
   "metadata": {},
   "outputs": [
    {
     "name": "stdout",
     "output_type": "stream",
     "text": [
      "[2 0]\n",
      "[0 3]\n",
      "[[2 0]\n",
      " [0 3]]\n",
      "[4 3]\n"
     ]
    }
   ],
   "source": [
    "# Example 4-9 Transforming a vector using NumPy\n",
    "import numpy as np\n",
    "\n",
    "i_hat = np.array([1, 0]) * 2\n",
    "print(i_hat)\n",
    "j_hat = np.array([0, 1]) * 3\n",
    "print(j_hat)\n",
    "basis = np.array([i_hat, j_hat]).transpose()\n",
    "print(basis)\n",
    "v = np.array([2, 1])\n",
    "new_vector_v = basis.dot(v)\n",
    "print(new_vector_v)"
   ]
  },
  {
   "cell_type": "code",
   "execution_count": 27,
   "id": "c8cb7883",
   "metadata": {},
   "outputs": [
    {
     "name": "stdout",
     "output_type": "stream",
     "text": [
      "[[ 2  2]\n",
      " [ 3 -1]]\n",
      "[6 5]\n"
     ]
    }
   ],
   "source": [
    "# Example 4-10 A more complicated transformation\n",
    "import numpy as np\n",
    "\n",
    "i_hat = np.array([2, 3])\n",
    "j_hat = np.array([2, -1])\n",
    "basis = np.array([i_hat, j_hat]).transpose()\n",
    "print(basis)\n",
    "\n",
    "v = np.array([2, 1])\n",
    "new_vector_v = basis.dot(v)\n",
    "print(new_vector_v)"
   ]
  },
  {
   "cell_type": "markdown",
   "id": "9a7691e7",
   "metadata": {},
   "source": [
    "### Matrix Multiplication"
   ]
  },
  {
   "cell_type": "markdown",
   "id": "151f7101",
   "metadata": {},
   "source": [
    "We learned how to multiply a vector (vector v) and a matrix (basis vector). Let's now learn how to multiply different matrix together."
   ]
  },
  {
   "cell_type": "code",
   "execution_count": 39,
   "id": "bdfb1031",
   "metadata": {},
   "outputs": [
    {
     "name": "stdout",
     "output_type": "stream",
     "text": [
      "[[ 0 -1]\n",
      " [ 1  0]]\n",
      "[[1 1]\n",
      " [0 1]]\n",
      "[-1  1]\n"
     ]
    }
   ],
   "source": [
    "# Example 4-11 Combining two transformations\n",
    "import numpy as np\n",
    "\n",
    "# First matrix composed of simple vectors\n",
    "i_hat1 = np.array([0, 1])\n",
    "j_hat1 = np.array([-1, 0])\n",
    "\n",
    "transform1 = np.array([i_hat1, j_hat1]).transpose()\n",
    "print(transform1)\n",
    "\n",
    "# Second matrix composed of simple vectors\n",
    "i_hat2 = np.array([1, 0])\n",
    "j_hat2 = np.array([1, 1])\n",
    "\n",
    "transform2 = np.array([i_hat2, j_hat2]).transpose()\n",
    "print(transform2)\n",
    "\n",
    "# Combine these two matrices\n",
    "combined = transform2 @ transform1\n",
    "\n",
    "# Multiply it with our vector v\n",
    "v = np.array([1, 2])\n",
    "\n",
    "print(combined.dot(v))"
   ]
  },
  {
   "cell_type": "code",
   "execution_count": 40,
   "id": "f11450ce",
   "metadata": {},
   "outputs": [
    {
     "name": "stdout",
     "output_type": "stream",
     "text": [
      "[[ 0 -1]\n",
      " [ 1  0]]\n",
      "[[1 1]\n",
      " [0 1]]\n",
      "[-2  3]\n"
     ]
    }
   ],
   "source": [
    "# Example 4-12 Applying the transformation in reverse\n",
    "import numpy as np\n",
    "\n",
    "i_hat1 = np.array([0, 1])\n",
    "j_hat1 = np.array([-1, 0])\n",
    "\n",
    "transform1 = np.array([i_hat1, j_hat1]).transpose()\n",
    "print(transform1)\n",
    "\n",
    "i_hat2 = np.array([1, 0])\n",
    "j_hat2 = np.array([1, 1])\n",
    "\n",
    "transform2 = np.array([i_hat2, j_hat2]).transpose()\n",
    "print(transform2)\n",
    "\n",
    "combined = transform1 @ transform2\n",
    "\n",
    "v = np.array([1, 2])\n",
    "\n",
    "print(combined.dot(v))"
   ]
  },
  {
   "cell_type": "code",
   "execution_count": null,
   "id": "1b388899",
   "metadata": {},
   "outputs": [],
   "source": []
  }
 ],
 "metadata": {
  "kernelspec": {
   "display_name": "Python 3 (ipykernel)",
   "language": "python",
   "name": "python3"
  },
  "language_info": {
   "codemirror_mode": {
    "name": "ipython",
    "version": 3
   },
   "file_extension": ".py",
   "mimetype": "text/x-python",
   "name": "python",
   "nbconvert_exporter": "python",
   "pygments_lexer": "ipython3",
   "version": "3.9.13"
  }
 },
 "nbformat": 4,
 "nbformat_minor": 5
}
