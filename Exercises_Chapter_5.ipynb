{
 "cells": [
  {
   "cell_type": "markdown",
   "id": "13bf9d4a-f49d-47bb-8eb9-37c7d07d4d65",
   "metadata": {},
   "source": [
    "# Exercises"
   ]
  },
  {
   "cell_type": "markdown",
   "id": "2a63dce0-9d19-4c1c-9da5-aea69ce3690d",
   "metadata": {},
   "source": [
    "Here the dataset: bit.ly/3C8JzrM"
   ]
  },
  {
   "cell_type": "markdown",
   "id": "9630d131-da87-44ca-bf11-44125e4c03cc",
   "metadata": {},
   "source": [
    "#### Ex. 1\n",
    "#### Perform a simple linear regression to find the $m$ and $b$ values that minimizes the loss (sum of squares).\n",
    "\n"
   ]
  },
  {
   "cell_type": "code",
   "execution_count": 11,
   "id": "44f82813-679d-4da6-955d-d6f60d00b7e2",
   "metadata": {},
   "outputs": [
    {
     "name": "stdout",
     "output_type": "stream",
     "text": [
      "X: [[ 1.]\n",
      " [ 2.]\n",
      " [ 3.]\n",
      " [ 4.]\n",
      " [ 5.]\n",
      " [ 6.]\n",
      " [ 7.]\n",
      " [ 8.]\n",
      " [ 9.]\n",
      " [10.]\n",
      " [11.]\n",
      " [12.]\n",
      " [13.]\n",
      " [14.]\n",
      " [15.]\n",
      " [16.]\n",
      " [17.]\n",
      " [18.]\n",
      " [19.]\n",
      " [20.]\n",
      " [21.]\n",
      " [22.]\n",
      " [23.]\n",
      " [24.]\n",
      " [25.]\n",
      " [26.]\n",
      " [27.]\n",
      " [28.]\n",
      " [29.]\n",
      " [30.]\n",
      " [31.]\n",
      " [32.]\n",
      " [33.]\n",
      " [34.]\n",
      " [35.]\n",
      " [36.]\n",
      " [37.]\n",
      " [38.]\n",
      " [39.]\n",
      " [40.]\n",
      " [41.]\n",
      " [42.]\n",
      " [43.]\n",
      " [44.]\n",
      " [45.]\n",
      " [46.]\n",
      " [47.]\n",
      " [48.]\n",
      " [49.]\n",
      " [50.]\n",
      " [51.]\n",
      " [52.]\n",
      " [53.]\n",
      " [54.]\n",
      " [55.]\n",
      " [56.]\n",
      " [57.]\n",
      " [58.]\n",
      " [59.]\n",
      " [60.]\n",
      " [61.]\n",
      " [62.]\n",
      " [63.]\n",
      " [64.]\n",
      " [65.]\n",
      " [66.]\n",
      " [67.]\n",
      " [68.]\n",
      " [69.]\n",
      " [70.]\n",
      " [71.]\n",
      " [72.]\n",
      " [73.]\n",
      " [74.]\n",
      " [75.]\n",
      " [76.]\n",
      " [77.]\n",
      " [78.]\n",
      " [79.]\n",
      " [80.]\n",
      " [81.]\n",
      " [82.]\n",
      " [83.]\n",
      " [84.]\n",
      " [85.]\n",
      " [86.]\n",
      " [87.]\n",
      " [88.]\n",
      " [89.]\n",
      " [90.]\n",
      " [91.]\n",
      " [92.]\n",
      " [93.]\n",
      " [94.]\n",
      " [95.]\n",
      " [96.]\n",
      " [97.]\n",
      " [98.]\n",
      " [99.]]\n",
      "\n",
      "\n",
      "Y: [-13.11584315  25.80654738  -5.01728537  20.25641536   4.07500348\n",
      "  -3.53026008  24.04599852  22.11256639   5.96859103  43.39233851\n",
      "  32.22464253  14.66614212  17.9661405   -2.75471825  25.15684021\n",
      "  20.18287021  22.28192946  16.75744707  54.21957466  60.56415065\n",
      "  84.36604948  51.24113209   6.35999787  55.31153809  42.77080278\n",
      "  30.09778427  55.51552055  16.493919    75.81985198  47.60612804\n",
      "  30.3806803   62.75557759  85.44671576 114.06294708  78.84012803\n",
      "   8.46078883 102.01824675  63.75158085  76.46355326  60.43978073\n",
      "  85.96034016  91.80058398  73.12549116 112.36443503  81.41210941\n",
      " 115.9900813   86.82290062 103.47190919  97.82980938  89.21260882\n",
      "  87.13801201 120.89162298  95.7428096  101.26338611 125.5052861\n",
      " 130.2579791  116.63427959 164.77012857  95.41012929 118.61480559\n",
      " 114.46504736  84.3528792  117.78083607 115.42146441  98.17537397\n",
      " 113.8506282  123.59359883 125.68821069 159.19544374 117.58829542\n",
      " 142.28293518 138.69088169 122.88687673 118.97486735 151.29643387\n",
      " 176.80570631 136.51553119  93.01547744 153.43753692 133.64823675\n",
      " 133.35848421 123.37312537 132.31103812 155.79190261 135.80882921\n",
      " 183.2834936  109.60802878 172.03331731 165.18955236 146.98859707\n",
      " 150.77555014 164.42911699 201.56572406 180.1744688  188.34574921\n",
      " 175.22250367 163.22577386 150.894306   174.94579613]\n",
      "Slope: [1.75919315]\n",
      "Intercept: [4.69359655]\n"
     ]
    }
   ],
   "source": [
    "import pandas as pd\n",
    "from sklearn.linear_model import LinearRegression\n",
    "\n",
    "# DF\n",
    "df = pd.read_csv(\"https://bit.ly/3C8JzrM\", delimiter=\",\", header=0)\n",
    "df.head()\n",
    "\n",
    "# Extract input vars - all rows and the first column\n",
    "X = df.values[:, :-1]\n",
    "# Extract output - all rows and the last column\n",
    "Y = df.values[:, -1]\n",
    "\n",
    "print(\"X:\", X)\n",
    "print(\"\\n\")\n",
    "print(\"Y:\",Y)\n",
    "\n",
    "# Istantiate the linear regression\n",
    "fit = LinearRegression().fit(X,Y)\n",
    "\n",
    "# Results\n",
    "m = fit.coef_.flatten()  # Slope\n",
    "b = fit.intercept_.flatten()  # Intercept\n",
    "print(\"Slope:\", m)\n",
    "print(\"Intercept:\", b)"
   ]
  },
  {
   "cell_type": "markdown",
   "id": "0f8c438b-6fea-49f5-8c54-9a2c37a3e28f",
   "metadata": {},
   "source": [
    "#### Ex. 2\n",
    "#### Calculate the correlation coefficient and statistical significance of this data (95% confidence). Is the correlation useful?"
   ]
  },
  {
   "cell_type": "code",
   "execution_count": 40,
   "id": "85801183-280c-4d9f-8b99-635888b8eeea",
   "metadata": {},
   "outputs": [
    {
     "name": "stdout",
     "output_type": "stream",
     "text": [
      "         x        y\n",
      "x  1.00000  0.92421\n",
      "y  0.92421  1.00000\n",
      "We reject H_0.\n"
     ]
    }
   ],
   "source": [
    "import pandas as pd\n",
    "from scipy.stats import t\n",
    "from numpy import sqrt\n",
    "\n",
    "# DF\n",
    "df = pd.read_csv(\"https://bit.ly/3C8JzrM\", delimiter=\",\", header=0)\n",
    "df.head()\n",
    "\n",
    "# Positive and strong correlation\n",
    "correlations = df.corr()\n",
    "print(correlations)\n",
    "r = 0.92421\n",
    "\n",
    "# Statistical significance - if our t value is outside the critical \n",
    "# value range we reject H_0 meaning the correlation did not happen by chance\n",
    "n = len(df)\n",
    "lower_cv = t(n-2).ppf(.025)\n",
    "higher_cv = t(n-2).ppf(.975)\n",
    "# T-test value\n",
    "t_test_value = r / sqrt((1- r**2) / (n - 2))\n",
    "# Result\n",
    "if t_test_value > higher_cv or t_test_value < lower_cv:\n",
    "    print(\"We reject H_0.\")\n",
    "else:\n",
    "    print(\"We cannot reject H_0.\")"
   ]
  },
  {
   "cell_type": "markdown",
   "id": "223b79cc-4bec-478e-af71-a1feccb0f0dd",
   "metadata": {},
   "source": [
    "#### Ex. 3\n",
    "#### If I predict where $x = 50$, what is the 95% prediction interval for the predicted value of y?"
   ]
  },
  {
   "cell_type": "markdown",
   "id": "9cf0028a-2baf-48ce-bcf0-01e263d24462",
   "metadata": {},
   "source": [
    "We just need to add/subtract the $margin$ of $error$ to $y$ $hat$:\n",
    "- $E = t_{0.25} * SEE * \\sqrt{1 + \\dfrac{1}{n} + \\dfrac{n(x_0 - \\bar{x})^2}{n(\\sum{x^2}) - (\\sum{x^2})}}$"
   ]
  },
  {
   "cell_type": "code",
   "execution_count": 47,
   "id": "deef6519-9c3a-47f6-a4f1-6d61c87f7f8f",
   "metadata": {},
   "outputs": [
    {
     "name": "stdout",
     "output_type": "stream",
     "text": [
      "y_hat: [92.65325395]\n",
      "[134.5144215] [50.7920864]\n"
     ]
    }
   ],
   "source": [
    "import pandas as pd\n",
    "from sklearn.linear_model import LinearRegression\n",
    "from scipy.stats import t\n",
    "from math import sqrt\n",
    "\n",
    "# DF\n",
    "df = pd.read_csv(\"https://bit.ly/3C8JzrM\", delimiter=\",\", header=0)\n",
    "points = list(pd.read_csv(\"https://bit.ly/3C8JzrM\", delimiter=\",\").itertuples())\n",
    "\n",
    "# Extract input vars - all rows and the first column\n",
    "X = df.values[:, :-1]\n",
    "# Extract output - all rows and the last column\n",
    "Y = df.values[:, -1]\n",
    "\n",
    "# Linear regression\n",
    "fit = LinearRegression().fit(X,Y)\n",
    "m = fit.coef_.flatten()  # Slope\n",
    "b = fit.intercept_.flatten()  # Intercept\n",
    "\n",
    "# y_hat\n",
    "n = len(points)\n",
    "x_mean = sum(point.x for point in points) / n\n",
    "x_0 = 50\n",
    "y_hat = m*x_0 + b\n",
    "print(\"y_hat:\", y_hat)\n",
    "\n",
    "# t value at 0.025\n",
    "t_value = t(n-2).ppf(0.025)\n",
    "\n",
    "# Margin of error\n",
    "E = t_value * SEE * \\\n",
    "    sqrt(1 + (1 / n) + (n*(x_0 - x_mean)**2 / \\\n",
    "    (n*sum(point.x**2 for point in points) - \\\n",
    "    sum(point.x for point in points)**2)))\n",
    "\n",
    "# SEE\n",
    "SEE = sqrt((sum((point.y - (m*point.x + b))**2 for point in points)) / (n - 2))\n",
    "\n",
    "# E, margin of error\n",
    "E = t_value * SEE * \\\n",
    "    sqrt(1 + (1 / n) + (n*(x_0 - x_mean)**2 / \\\n",
    "    (n*sum(point.x**2 for point in points) - \\\n",
    "    sum(point.x for point in points)**2)))\n",
    "\n",
    "# CI 95% around y_hat\n",
    "lower_CI = y_hat - E\n",
    "higher_CI = y_hat + E\n",
    "print(lower_CI, higher_CI)"
   ]
  },
  {
   "cell_type": "markdown",
   "id": "ebc4d1a9-e602-45f3-88fd-8314dd45945d",
   "metadata": {},
   "source": [
    "#### Ex. 4\n",
    "#### Start your regression over and do a train/test split. Feel free to experiment with cross-validation and random-fold validation. Does the linear regression perform well and consistently on the testing data? Why or why not?"
   ]
  },
  {
   "cell_type": "code",
   "execution_count": 46,
   "id": "fc5f9f20-6118-4aad-8bf6-08caac3e448f",
   "metadata": {},
   "outputs": [
    {
     "name": "stdout",
     "output_type": "stream",
     "text": [
      "R^2: 0.8440626048414025\n"
     ]
    }
   ],
   "source": [
    "# Simple train/test split\n",
    "import pandas as pd\n",
    "from sklearn.linear_model import LinearRegression\n",
    "from sklearn.model_selection import KFold, cross_val_score\n",
    "\n",
    "# DF\n",
    "df = pd.read_csv(\"https://bit.ly/3C8JzrM\", delimiter=\",\", header=0)\n",
    "\n",
    "# Extract input vars - all rows and the first column\n",
    "X = df.values[:, :-1]\n",
    "# Extract output - all rows and the last column\n",
    "Y = df.values[:, -1]\n",
    "\n",
    "# Train 8/10, test 2/10\n",
    "X_train, X_test, Y_train, Y_test = train_test_split(X, Y, test_size=1/5)\n",
    "\n",
    "# Set up model\n",
    "model = LinearRegression()\n",
    "model.fit(X_train, Y_train)\n",
    "result = model.score(X_test, Y_test)\n",
    "print(\"R^2:\", result)"
   ]
  },
  {
   "cell_type": "code",
   "execution_count": 50,
   "id": "e62f2226-58ec-454e-ae1b-91257f29f79d",
   "metadata": {},
   "outputs": [
    {
     "name": "stdout",
     "output_type": "stream",
     "text": [
      "MSE: 0.8336375693565597 STD: 0.03628076503574302\n"
     ]
    }
   ],
   "source": [
    "# Three-fold cross-validatiion for a linear regression\n",
    "import pandas as pd\n",
    "from sklearn.linear_model import LinearRegression\n",
    "from sklearn.model_selection import KFold, cross_val_score\n",
    "\n",
    "# DF\n",
    "df = pd.read_csv(\"https://bit.ly/3C8JzrM\", delimiter=\",\", header=0)\n",
    "\n",
    "# Extract input vars - all rows and the first column\n",
    "X = df.values[:, :-1]\n",
    "# Extract output - all rows and the last column\n",
    "Y = df.values[:, -1]\n",
    "\n",
    "# Set up model with 3 fold cv and perform linear regression with MSE and STD metrics\n",
    "kfold = KFold(n_splits=3, random_state=7, shuffle=True)\n",
    "model = LinearRegression()\n",
    "results = cross_val_score(model, X, Y, cv=kfold)\n",
    "print(\"MSE:\", results.mean(), \"STD:\", results.std())"
   ]
  },
  {
   "cell_type": "code",
   "execution_count": 49,
   "id": "4fbf976f-44ea-4f0b-8927-4f4634c0a448",
   "metadata": {},
   "outputs": [
    {
     "name": "stdout",
     "output_type": "stream",
     "text": [
      "MSE: 0.8373221715266962 STD: 0.03777483738122684\n"
     ]
    }
   ],
   "source": [
    "# Random fold cross-validatiion for a linear regression\n",
    "import pandas as pd\n",
    "from sklearn.linear_model import LinearRegression\n",
    "from sklearn.model_selection import ShuffleSplit, cross_val_score\n",
    "\n",
    "# DF\n",
    "df = pd.read_csv(\"https://bit.ly/3C8JzrM\", delimiter=\",\", header=0)\n",
    "\n",
    "# Extract input vars - all rows and the first column\n",
    "X = df.values[:, :-1]\n",
    "# Extract output - all rows and the last column\n",
    "Y = df.values[:, -1]\n",
    "\n",
    "# Set up model and perform linear regression with MSE and STD metrics\n",
    "# 100 iterations, each iterations has a test data of 1/3\n",
    "kfold = ShuffleSplit(n_splits=100, test_size=.33, random_state=7)\n",
    "model = LinearRegression()\n",
    "results = cross_val_score(model, X, Y, cv=kfold)\n",
    "print(\"MSE:\", results.mean(), \"STD:\", results.std())"
   ]
  }
 ],
 "metadata": {
  "kernelspec": {
   "display_name": "Python 3 (ipykernel)",
   "language": "python",
   "name": "python3"
  },
  "language_info": {
   "codemirror_mode": {
    "name": "ipython",
    "version": 3
   },
   "file_extension": ".py",
   "mimetype": "text/x-python",
   "name": "python",
   "nbconvert_exporter": "python",
   "pygments_lexer": "ipython3",
   "version": "3.9.13"
  }
 },
 "nbformat": 4,
 "nbformat_minor": 5
}
